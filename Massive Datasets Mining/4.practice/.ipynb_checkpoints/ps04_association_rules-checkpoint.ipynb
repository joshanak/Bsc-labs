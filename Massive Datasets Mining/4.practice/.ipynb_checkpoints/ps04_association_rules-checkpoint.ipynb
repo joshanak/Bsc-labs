{
 "cells": [
  {
   "cell_type": "markdown",
   "metadata": {},
   "source": [
    "# Practice Session 04: Basket analysis"
   ]
  },
  {
   "cell_type": "markdown",
   "metadata": {},
   "source": [
    "Association rule mining techniques are useful to analyze datasets consisting of transactions, in which each transaction is a collection of items.\n",
    "\n",
    "We will use a well-known dataset named [Instacart](https://www.kaggle.com/c/instacart-market-basket-analysis) containing more than 3 million orders of products through a grocery shopping app. You can find it in the `instacart/` directory of the practicum data files.\n",
    "\n",
    "<font size=\"-1\" color=\"gray\">(Remove this cell when delivering.)</font>"
   ]
  },
  {
   "cell_type": "markdown",
   "metadata": {},
   "source": [
    "Author: <font color=\"blue\">Josip Hanak</font>\n",
    "\n",
    "E-mail: <font color=\"blue\">josip.hanak@fer.hr</font>\n",
    "\n",
    "Date: <font color=\"blue\">25.10.2022</font>"
   ]
  },
  {
   "cell_type": "code",
   "execution_count": 130,
   "metadata": {},
   "outputs": [],
   "source": [
    "import numpy as np  \n",
    "import matplotlib.pyplot as plt  \n",
    "import pandas as pd  \n",
    "import csv\n",
    "import gzip\n",
    "from apyori import apriori"
   ]
  },
  {
   "cell_type": "markdown",
   "metadata": {},
   "source": [
    "If the apyori library is not already installed in your laptop, you can install it with: `pip install apyori`\n",
    "\n",
    "<font size=\"-1\" color=\"gray\">(Remove this cell when delivering.)</font>"
   ]
  },
  {
   "cell_type": "markdown",
   "metadata": {},
   "source": [
    "## 0. The Apriori Algorithm in a nutshell\n",
    "\n",
    "There are three major components of Apriori algorithm, which we describe below using as an example the case where transactions are purchase histories.\n",
    "\n",
    "**Support**: the number of transactions containing a particular item divided by total number of transactions:\n",
    "\n",
    "   *Support(A) = (Transactions containing (A))/(Total Transactions)*\n",
    "\n",
    "**Confidence**: normally indicates the likelihood that an item B is also bought if item A is bought. It can be calculated by finding the number of transactions where A and B are bought together, divided by total number of transactions where A is bought:\n",
    "\n",
    "   *Confidence(A→B) = (Transactions containing both (A and B))/(Transactions containing A)*\n",
    "\n",
    "**Lift**: the increase in the ratio of sale of B when A is sold. Lift(A –> B) can be calculated by dividing Confidence(A -> B) by Support(B):\n",
    "\n",
    "   *Lift(A→B) = (Confidence (A→B))/(Support (B))*\n",
    "   \n",
    "A Lift of 1 means there is no association between products A and B. Lift greater than 1.0 means products A and B are more likely to be bought together. Lift less than 1.0 indicates two products are unlikely to be bought together.\n",
    "\n",
    "The Apriori algorithm first finds itemsets having the desired level of support, and then within those itemsets tries to derive rules having the desired confidence and lift.\n",
    "\n",
    "<font size=\"-1\" color=\"gray\">(Remove this cell when delivering.)</font>"
   ]
  },
  {
   "cell_type": "markdown",
   "metadata": {},
   "source": [
    "# 1. Playing with apyori"
   ]
  },
  {
   "cell_type": "markdown",
   "metadata": {},
   "source": [
    "The [apyori library](https://pypi.org/project/apyori/) is an implementation of the Apriori algorithm. Its typical usage is to receive a list of transactions and then print the association rules it found.\n",
    "\n",
    "To use this library, we pass a list in which each element represents a transaction, for instance:\n",
    "\n",
    "```python\n",
    "transactions = [\n",
    "    ['beer', 'chips', 'nuts', 'olives'],\n",
    "    ['beer', 'chips', 'olives'],\n",
    "    ['chips', 'nuts' ],\n",
    "    ['chips', 'olives'],\n",
    "    ['beer', 'nuts' ],\n",
    "    ['chips'],\n",
    "    ['nuts', 'olives'],\n",
    "    ['beer', 'nuts'],\n",
    "    ['beer', 'chips', 'olives'], \n",
    "    ['beer', 'nuts', 'olives'], \n",
    "\n",
    "]\n",
    "results = list(apriori(transactions, min_support=0.2, min_confidence=0.75, min_lift=1.0))\n",
    "\n",
    "```\n",
    "\n",
    "The function below, which you can leave as-is, prints the output of the apyori library in a readable format. Use it to print the results of your association rules mining:\n",
    "\n",
    "```python\n",
    "print_apyori_output(results)\n",
    "```\n",
    "\n",
    "<font size=\"-1\" color=\"gray\">(Remove this cell when delivering.)</font>"
   ]
  },
  {
   "cell_type": "code",
   "execution_count": 131,
   "metadata": {},
   "outputs": [],
   "source": [
    "# LEAVE AS-IS\n",
    "\n",
    "def print_apyori_output (association_results, info=False, info_key=False):\n",
    "    for relation_record in association_results:\n",
    "        itemset = list(relation_record.items)\n",
    "        \n",
    "        # Consider only itemsets of two elements\n",
    "        if len(itemset) > 1: \n",
    "        \n",
    "            print(\"Rules involving itemset %s\" % itemset)\n",
    "            support = relation_record.support\n",
    "\n",
    "            for rules in relation_record.ordered_statistics:\n",
    "                antecedent = list(rules.items_base)\n",
    "                consequent = list(rules.items_add)\n",
    "                \n",
    "                if info_key:\n",
    "                    antecedent = [info.loc[x][info_key] for x in antecedent]\n",
    "                    consequent = [info.loc[x][info_key] for x in consequent]\n",
    "                \n",
    "                confidence = rules.confidence\n",
    "                lift = rules.lift\n",
    "\n",
    "                print(\"%s => %s (support=%.4f, confidence=%.2f, lift=%.2f)\" %\n",
    "                      (antecedent, consequent, support, confidence, lift))\n",
    "            print()"
   ]
  },
  {
   "cell_type": "markdown",
   "metadata": {},
   "source": [
    "<font size=\"+1\" color=\"red\">Replace this cell with your own example of transactions (at least 20 transactions) and execution of the apriori algorithm, in which you should obtain at least ONE and at most THREE rules.</font>"
   ]
  },
  {
   "cell_type": "code",
   "execution_count": 193,
   "metadata": {},
   "outputs": [
    {
     "name": "stdout",
     "output_type": "stream",
     "text": [
      "Rules involving itemset ['sister', 'mom', 'dad']\n",
      "['mom', 'dad'] => ['sister'] (support=0.2500, confidence=1.00, lift=1.50)\n",
      "['sister', 'dad'] => ['mom'] (support=0.2500, confidence=0.75, lift=1.29)\n",
      "\n"
     ]
    }
   ],
   "source": [
    "family = [\n",
    "    ['dad', 'brother' ],\n",
    "    ['mom', 'dad', 'sister'],\n",
    "    ['mom', 'brother' ],\n",
    "    ['dad', 'sister'],\n",
    "    ['dad'],\n",
    "    ['mom', 'dad', 'brother', 'sister'],\n",
    "    ['brother', 'sister'],\n",
    "    ['mom', 'brother'],\n",
    "    ['mom', 'brother', 'sister'], \n",
    "    ['mom', 'dad', 'sister'],\n",
    "    ['sister', 'mom'],\n",
    "    ['sister']\n",
    "]\n",
    "results = list(apriori(family, min_support=0.2, min_confidence=0.75, min_lift=1.0))\n",
    "print_apyori_output(results)"
   ]
  },
  {
   "cell_type": "markdown",
   "metadata": {},
   "source": [
    "<font size=\"+1\" color=\"red\">Replace this cell with (1) a printout of the rules you have obtained, and (2) for each of those rules, indicate clearly how the support, confidence, and lift is calculated. Do not merely repeat the formula: indicate how each number is computed based on the transactions you provided, as if you were trying to verify that the numbers are correct.</font>"
   ]
  },
  {
   "cell_type": "code",
   "execution_count": null,
   "metadata": {},
   "outputs": [],
   "source": [
    "Rules involving itemset ['sister', 'mom', 'dad']\n",
    "['mom', 'dad'] => ['sister'] (support=0.2500, confidence=1.00, lift=1.50)\n",
    "['sister', 'dad'] => ['mom'] (support=0.2500, confidence=0.75, lift=1.29)\n",
    "Itemsets with sufficient support\n",
    "[mom] = support = 7/12 > 0.25\n",
    "[dad] = support = 6/12 > 0.25\n",
    "[sister] = support = 6/12 > 0.25\n",
    "[brother] = support = 6/12 > 0.25\n",
    "[mom, dad] = support = 3/12 == 0.25\n",
    "[mom, sister] = support = 6/12 > 0.25\n",
    "[mom, brother] = support = 4/12 > 0.25\n",
    "[dad, sister] = support = 4/12\n",
    "[dad, brother] = support = 2/12 < 0.25 HAVE TO TAKE IT\n",
    "[sister, brother] = support = 3/12 > 0.25\n",
    "[mom, dad, sister] = support = 3/12 > 0.25\n",
    "[mom, dad, brother] = support = 1/12 < 0.25 HAVE TO TAKE IT\n",
    "[mom, brother, sister] = support = 2/12 < 0.25 HAVE TO TAKIE IT\n",
    "[dad, brother, sister] = support = 2/12 < 0.25 HAVE TO TAKE IT\n",
    "[mom,brother,sister,dad] = support = 1/12 < 0.25 HAVE TO TAKE IT\n",
    "Confidence Transactions containing both (A and B))/(Transactions containing A)\n",
    "transactions containing mom,dad = 3\n",
    "transactions conatining sister = 6\n",
    "confidence should be = 1/2 I do not know why the algorithm took [mom,dad,sister]\n",
    "\n"
   ]
  },
  {
   "cell_type": "markdown",
   "metadata": {},
   "source": [
    "# 2. Load and prepare the shopping baskets"
   ]
  },
  {
   "cell_type": "markdown",
   "metadata": {},
   "source": [
    "The following code, which you should leave as-is, loads the information about products into a dataframe indexed by product id.\n",
    "\n",
    "<font size=\"-1\" color=\"gray\">(Remove this cell when delivering.)</font>"
   ]
  },
  {
   "cell_type": "code",
   "execution_count": 133,
   "metadata": {},
   "outputs": [
    {
     "data": {
      "text/html": [
       "<div>\n",
       "<style scoped>\n",
       "    .dataframe tbody tr th:only-of-type {\n",
       "        vertical-align: middle;\n",
       "    }\n",
       "\n",
       "    .dataframe tbody tr th {\n",
       "        vertical-align: top;\n",
       "    }\n",
       "\n",
       "    .dataframe thead th {\n",
       "        text-align: right;\n",
       "    }\n",
       "</style>\n",
       "<table border=\"1\" class=\"dataframe\">\n",
       "  <thead>\n",
       "    <tr style=\"text-align: right;\">\n",
       "      <th></th>\n",
       "      <th>product_name</th>\n",
       "      <th>department_id</th>\n",
       "    </tr>\n",
       "    <tr>\n",
       "      <th>product_id</th>\n",
       "      <th></th>\n",
       "      <th></th>\n",
       "    </tr>\n",
       "  </thead>\n",
       "  <tbody>\n",
       "    <tr>\n",
       "      <th>1</th>\n",
       "      <td>Chocolate Sandwich Cookies</td>\n",
       "      <td>19</td>\n",
       "    </tr>\n",
       "    <tr>\n",
       "      <th>2</th>\n",
       "      <td>All-Seasons Salt</td>\n",
       "      <td>13</td>\n",
       "    </tr>\n",
       "    <tr>\n",
       "      <th>3</th>\n",
       "      <td>Robust Golden Unsweetened Oolong Tea</td>\n",
       "      <td>7</td>\n",
       "    </tr>\n",
       "    <tr>\n",
       "      <th>4</th>\n",
       "      <td>Smart Ones Classic Favorites Mini Rigatoni Wit...</td>\n",
       "      <td>1</td>\n",
       "    </tr>\n",
       "    <tr>\n",
       "      <th>5</th>\n",
       "      <td>Green Chile Anytime Sauce</td>\n",
       "      <td>13</td>\n",
       "    </tr>\n",
       "    <tr>\n",
       "      <th>...</th>\n",
       "      <td>...</td>\n",
       "      <td>...</td>\n",
       "    </tr>\n",
       "    <tr>\n",
       "      <th>96</th>\n",
       "      <td>Sprinklez Confetti Fun Organic Toppings</td>\n",
       "      <td>13</td>\n",
       "    </tr>\n",
       "    <tr>\n",
       "      <th>97</th>\n",
       "      <td>Organic Chamomile Lemon Tea</td>\n",
       "      <td>7</td>\n",
       "    </tr>\n",
       "    <tr>\n",
       "      <th>98</th>\n",
       "      <td>2% Yellow American Cheese</td>\n",
       "      <td>16</td>\n",
       "    </tr>\n",
       "    <tr>\n",
       "      <th>99</th>\n",
       "      <td>Local Living Butter Lettuce</td>\n",
       "      <td>4</td>\n",
       "    </tr>\n",
       "    <tr>\n",
       "      <th>100</th>\n",
       "      <td>Peanut Butter &amp; Strawberry Jam Sandwich</td>\n",
       "      <td>1</td>\n",
       "    </tr>\n",
       "  </tbody>\n",
       "</table>\n",
       "<p>100 rows × 2 columns</p>\n",
       "</div>"
      ],
      "text/plain": [
       "                                                 product_name  department_id\n",
       "product_id                                                                  \n",
       "1                                  Chocolate Sandwich Cookies             19\n",
       "2                                            All-Seasons Salt             13\n",
       "3                        Robust Golden Unsweetened Oolong Tea              7\n",
       "4           Smart Ones Classic Favorites Mini Rigatoni Wit...              1\n",
       "5                                   Green Chile Anytime Sauce             13\n",
       "...                                                       ...            ...\n",
       "96                    Sprinklez Confetti Fun Organic Toppings             13\n",
       "97                                Organic Chamomile Lemon Tea              7\n",
       "98                                  2% Yellow American Cheese             16\n",
       "99                                Local Living Butter Lettuce              4\n",
       "100                   Peanut Butter & Strawberry Jam Sandwich              1\n",
       "\n",
       "[100 rows x 2 columns]"
      ]
     },
     "execution_count": 133,
     "metadata": {},
     "output_type": "execute_result"
    }
   ],
   "source": [
    "# LEAVE AS-IS\n",
    "\n",
    "# File names\n",
    "INPUT_PRODUCTS = \"instacart-products.csv\"\n",
    "INPUT_TRANSACTIONS = \"instacart-transactions.csv.gz\"\n",
    "\n",
    "# Read into a dataframe\n",
    "products = pd.read_csv(INPUT_PRODUCTS, delimiter=\",\")\n",
    "\n",
    "# Set product_id as index, and drop column aisle_id\n",
    "products = products.set_index('product_id').drop(columns=['aisle_id'])\n",
    "\n",
    "products.head(100)"
   ]
  },
  {
   "cell_type": "markdown",
   "metadata": {},
   "source": [
    "## 2.1. Select by department"
   ]
  },
  {
   "cell_type": "markdown",
   "metadata": {},
   "source": [
    "As this file is large and complex, we will focus on one or two departments and try to get some conclusions about the products in those departments. The following cell, which you should leave as-is, list some department names.\n",
    "\n",
    "<font size=\"-1\" color=\"gray\">(Remove this cell when delivering.)</font>"
   ]
  },
  {
   "cell_type": "code",
   "execution_count": 134,
   "metadata": {},
   "outputs": [],
   "source": [
    "# LEAVE AS-IS\n",
    "\n",
    "DEPT_BAKERY = 3\n",
    "DEPT_VEGGIES = 4\n",
    "DEPT_ALCOHOL = 5\n",
    "DEPT_WORLD = 6\n",
    "DEPT_DRINKS = 7\n",
    "DEPT_PETS = 8\n",
    "DEPT_PHARMACY = 11\n",
    "DEPT_CLEANING = 17\n",
    "DEPT_BABIES = 18"
   ]
  },
  {
   "cell_type": "markdown",
   "metadata": {},
   "source": [
    "Write code that can select a list of products from a set of departments. Do this with a function named `select_from_departments` that takes as input:\n",
    "\n",
    "* A dataframe containing product information, which will be the `products` dataframe we just loaded.\n",
    "* A list of product ids\n",
    "* A list of department ids\n",
    "\n",
    "It should return a list containing only the product ids that belong to one of the listed departments. This may return an empty list if no product belongs to any of the specified departments.\n",
    "\n",
    "Given that the products dataframe is indexed by *product_id*, if you want to obtain the *department_id* of product *product_id*, use:\n",
    "\n",
    "```python\n",
    "products.loc[product_id].department_id\n",
    "```\n",
    "\n",
    "Note that *product_id* must be an integer.\n",
    "\n",
    "<font size=\"-1\" color=\"gray\">(Remove this cell when delivering.)</font>"
   ]
  },
  {
   "cell_type": "markdown",
   "metadata": {},
   "source": [
    "<font size=\"+1\" color=\"red\">Replace this cell with your code for *select_from_departments*.</font>"
   ]
  },
  {
   "cell_type": "code",
   "execution_count": 135,
   "metadata": {},
   "outputs": [],
   "source": [
    "def select_from_departments(products, product_ids, department_ids):\n",
    "    products_in_departs = list()\n",
    "    for id in product_ids:\n",
    "        if products.loc[id].department_id in department_ids:\n",
    "            products_in_departs.append(id)\n",
    "    return products_in_departs\n",
    " \n",
    "    "
   ]
  },
  {
   "cell_type": "markdown",
   "metadata": {},
   "source": [
    "Test your function by passing it a list of products and ensuring it selects only the products in the 1-2 departments you have selected. To obtain test cases you can open the products file with a spreadsheet program.\n",
    "\n",
    "Each test case should print:\n",
    "\n",
    "* The product name and department id of each item in the input list\n",
    "* The product name and department id of each item in the output list\n",
    "\n",
    "For instance, suppose a test case is `[21, 26, 45, 54, 57, 71, 111, 112]` and we select products from DEPT_PETS and DEPT_CLEANING, a test case run should print something similar to this:\n",
    "\n",
    "```\n",
    "Test case:\n",
    "[21, 26, 45, 54, 57, 71, 111, 112]\n",
    "\n",
    "Input products:\n",
    "21 Small & Medium Dental Dog Treats (dept 8)\n",
    "26 Fancy Feast Trout Feast Flaked Wet Cat Food (dept 8)\n",
    "45 European Cucumber (dept 4)\n",
    "54 24/7 Performance Cat Litter (dept 8)\n",
    "57 Flat Toothpicks (dept 17)\n",
    "71 Ultra 7 Inch Polypropylene Traditional Plates (dept 17)\n",
    "111 Fabric Softener, Geranium Scent (dept 17)\n",
    "112 Hot Tomatillo Salsa (dept 13)\n",
    "\n",
    "Selected products:\n",
    "21 Small & Medium Dental Dog Treats (dept 8)\n",
    "26 Fancy Feast Trout Feast Flaked Wet Cat Food (dept 8)\n",
    "54 24/7 Performance Cat Litter (dept 8)\n",
    "57 Flat Toothpicks (dept 17)\n",
    "71 Ultra 7 Inch Polypropylene Traditional Plates (dept 17)\n",
    "111 Fabric Softener, Geranium Scent (dept 17)\n",
    "```\n",
    "\n",
    "Do not replicate code that can be easily factored in a function in your answer.\n",
    "\n",
    "<font size=\"-1\" color=\"gray\">(Remove this cell when delivering.)</font>"
   ]
  },
  {
   "cell_type": "markdown",
   "metadata": {},
   "source": [
    "<font size=\"+1\" color=\"red\">Replace this cell with code to test your function with three different test cases. Each test case is a list of items and a list of 1, 2, or 3 departments.</font>"
   ]
  },
  {
   "cell_type": "code",
   "execution_count": 136,
   "metadata": {},
   "outputs": [],
   "source": [
    "def test_select(product_ids, department_ids):\n",
    "    print(\"Input products\")\n",
    "    for id in product_ids:\n",
    "            print(id, \" \", products.loc[id].product_name, \" dept:\", products.loc[id].department_id)\n",
    "    print(\"Selected products\")\n",
    "    result = select_from_departments(products, product_ids, department_ids)\n",
    "    for id in result:\n",
    "        print(id, \" \", products.loc[id].product_name, \" dept:\", products.loc[id].department_id)\n",
    "    "
   ]
  },
  {
   "cell_type": "code",
   "execution_count": 137,
   "metadata": {},
   "outputs": [
    {
     "name": "stdout",
     "output_type": "stream",
     "text": [
      "Input products\n",
      "21   Small & Medium Dental Dog Treats  dept: 8\n",
      "26   Fancy Feast Trout Feast Flaked Wet Cat Food  dept: 8\n",
      "45   European Cucumber  dept: 4\n",
      "54   24/7 Performance Cat Litter  dept: 8\n",
      "57   Flat Toothpicks  dept: 17\n",
      "71   Ultra 7 Inch Polypropylene Traditional Plates  dept: 17\n",
      "111   Fabric Softener, Geranium Scent  dept: 17\n",
      "112   Hot Tomatillo Salsa  dept: 13\n",
      "Selected products\n",
      "21   Small & Medium Dental Dog Treats  dept: 8\n",
      "26   Fancy Feast Trout Feast Flaked Wet Cat Food  dept: 8\n",
      "54   24/7 Performance Cat Litter  dept: 8\n",
      "57   Flat Toothpicks  dept: 17\n",
      "71   Ultra 7 Inch Polypropylene Traditional Plates  dept: 17\n",
      "111   Fabric Softener, Geranium Scent  dept: 17\n"
     ]
    }
   ],
   "source": [
    "product_ids = [21, 26, 45, 54, 57, 71, 111, 112]\n",
    "department_ids = [8, 17]\n",
    "test_select(product_ids, department_ids)"
   ]
  },
  {
   "cell_type": "code",
   "execution_count": 138,
   "metadata": {},
   "outputs": [
    {
     "name": "stdout",
     "output_type": "stream",
     "text": [
      "Input products\n",
      "12   Chocolate Fudge Layer Cake  dept: 1\n",
      "33   Organic Spaghetti Style Pasta  dept: 9\n",
      "34   Peanut Butter Cereal  dept: 14\n",
      "35   Italian Herb Porcini Mushrooms Chicken Sausage  dept: 12\n",
      "39   Daily Tangerine Citrus Flavored Beverage  dept: 7\n",
      "71   Ultra 7 Inch Polypropylene Traditional Plates  dept: 17\n",
      "4   Smart Ones Classic Favorites Mini Rigatoni With Vodka Cream Sauce  dept: 1\n",
      "99   Local Living Butter Lettuce  dept: 4\n",
      "Selected products\n",
      "71   Ultra 7 Inch Polypropylene Traditional Plates  dept: 17\n"
     ]
    }
   ],
   "source": [
    "product_ids = [12, 33, 34, 35, 39, 71, 4, 99]\n",
    "department_ids = [8, 17, 20]\n",
    "test_select(product_ids, department_ids)"
   ]
  },
  {
   "cell_type": "code",
   "execution_count": 139,
   "metadata": {},
   "outputs": [
    {
     "name": "stdout",
     "output_type": "stream",
     "text": [
      "Input products\n",
      "75   Hemp Protein, Organic  dept: 11\n",
      "76   Spinach Basil Garlic Linguini  dept: 9\n",
      "77   Coconut Chocolate Chip Energy Bar  dept: 19\n",
      "78   Nutter Butter Cookie Bites Go-Pak  dept: 19\n",
      "79   Wild Albacore Tuna No Salt Added  dept: 15\n",
      "85   Soppressata Piccante  dept: 20\n",
      "2   All-Seasons Salt  dept: 13\n",
      "3   Robust Golden Unsweetened Oolong Tea  dept: 7\n",
      "4   Smart Ones Classic Favorites Mini Rigatoni With Vodka Cream Sauce  dept: 1\n",
      "Selected products\n"
     ]
    }
   ],
   "source": [
    "product_ids = [75, 76, 77, 78, 79, 85, 2, 3, 4]\n",
    "department_ids = [2]\n",
    "test_select(product_ids, department_ids)"
   ]
  },
  {
   "cell_type": "markdown",
   "metadata": {},
   "source": [
    "## 2.2. Read and filter transactions"
   ]
  },
  {
   "cell_type": "markdown",
   "metadata": {},
   "source": [
    "The transactions file is a compressed file containing one row per transaction. Each transaction is a comma-separated list of *product_id*. The following skeleton iterates through this file:\n",
    "\n",
    "```python\n",
    "# Open a compressed file\n",
    "with gzip.open(INPUT_TRANSACTIONS, \"rt\") as inputfile:\n",
    "    \n",
    "    # Create a CSV reader\n",
    "    reader = csv.reader(inputfile, delimiter=\",\")\n",
    "    \n",
    "    # Iterate through the CSV file\n",
    "    for row in reader:\n",
    "        \n",
    "        # Convert to integers\n",
    "        items = [int(x) for x in row]\n",
    "```\n",
    "\n",
    "Read the transactions, filtering the items so they belong to the DEPT_CLEANING department. Stop reading (`break`) after you have stored 5000 transactions into an array named `transactions`. Every 1000 transactions read, print the number of transactions read and the number of transactions stored.\n",
    "\n",
    "<font size=\"-1\" color=\"gray\">(Remove this cell when delivering.)</font>"
   ]
  },
  {
   "cell_type": "markdown",
   "metadata": {},
   "source": [
    "<font size=\"+1\" color=\"red\">Replace this cell with your code to read transactions, keeping only items in DEPT_CLEANING. Remember to stop after keeping 5000 transactions.</font>"
   ]
  },
  {
   "cell_type": "code",
   "execution_count": 191,
   "metadata": {},
   "outputs": [],
   "source": [
    "\n",
    "# Open a compressed file\n",
    "def algo(depart_id):\n",
    "    with gzip.open(INPUT_TRANSACTIONS, \"rt\") as inputfile:\n",
    "        transactions = list()\n",
    "        # Create a CSV reader\n",
    "        reader = csv.reader(inputfile, delimiter=\",\")\n",
    "        i = 0\n",
    "        # Iterate through the CSV file\n",
    "        for row in reader:\n",
    "            if i%1000 == 0:\n",
    "                print(\"transaction read: \", i, \" transaction stored: \",len(transactions))\n",
    "            if i == 5000:\n",
    "                break\n",
    "            # Convert to integers\n",
    "            items = [int(x) for x in row]\n",
    "            final_items = list()\n",
    "            for item in items:\n",
    "                if products.loc[item].department_id == depart_id:\n",
    "                    final_items.append(item)\n",
    "            if len(final_items) > 0:\n",
    "                    transactions.append(final_items)\n",
    "            i = i+1\n",
    "        return transactions\n",
    " "
   ]
  },
  {
   "cell_type": "markdown",
   "metadata": {},
   "source": [
    "## 2.3. Extract association rules and comment on them (DEPT_CLEANING)"
   ]
  },
  {
   "cell_type": "markdown",
   "metadata": {},
   "source": [
    "You are now ready to run the association rules mining algorithm over the selected transactions:\n",
    "\n",
    "```python\n",
    "results = list(apriori(transactions, min_support=..., min_confidence=..., min_lift=...))\n",
    "print_apyori_output(results, products, 'product_name')\n",
    "```\n",
    "\n",
    "*Tip:* if you set `min_support` to a very small value, your notebook will probably hang.\n",
    "\n",
    "<font size=\"-1\" color=\"gray\">(Remove this cell when delivering.)</font>"
   ]
  },
  {
   "cell_type": "markdown",
   "metadata": {},
   "source": [
    "<font size=\"+1\" color=\"red\">Replace this cell with your code to extract association rules from the read transactions (DEPT_CLEANING).</font>"
   ]
  },
  {
   "cell_type": "code",
   "execution_count": 144,
   "metadata": {},
   "outputs": [
    {
     "name": "stdout",
     "output_type": "stream",
     "text": [
      "transaction read:  0  transaction stored:  0\n",
      "transaction read:  1000  transaction stored:  158\n",
      "transaction read:  2000  transaction stored:  311\n",
      "transaction read:  3000  transaction stored:  460\n",
      "transaction read:  4000  transaction stored:  598\n",
      "transaction read:  5000  transaction stored:  745\n",
      "Rules involving itemset [28963, 8021]\n",
      "['Naked Sponges - 2 CT'] => ['100% Recycled Paper Towels'] (support=0.0027, confidence=1.00, lift=18.17)\n",
      "\n",
      "Rules involving itemset [41387, 21653]\n",
      "['Plastic Spoons'] => ['Compostable Forks'] (support=0.0040, confidence=0.75, lift=93.12)\n",
      "\n",
      "Rules involving itemset [46184, 24533]\n",
      "['Pre-Moistened Multi-Surface Everyday Wipes'] => ['Original Pre-Moistened Wipes'] (support=0.0040, confidence=1.00, lift=248.33)\n",
      "['Original Pre-Moistened Wipes'] => ['Pre-Moistened Multi-Surface Everyday Wipes'] (support=0.0040, confidence=1.00, lift=248.33)\n",
      "\n"
     ]
    }
   ],
   "source": [
    "transactions = algo(17)\n",
    "results = list(apriori(transactions, min_support=0.0015, min_confidence=0.75, min_lift=1.0))\n",
    "print_apyori_output(results, products, 'product_name')"
   ]
  },
  {
   "cell_type": "markdown",
   "metadata": {},
   "source": [
    "<font size=\"+1\" color=\"red\">Replace this cell with a brief commentary on what you would recommend to the shopping app considering the extracted association rules.</font>"
   ]
  },
  {
   "cell_type": "code",
   "execution_count": null,
   "metadata": {},
   "outputs": [],
   "source": [
    "As the algorithm suggests ecologically not friendly items sails influence the sails of ecological items. If the goal is to\n",
    "increase of sails purely (from a capitalist point of view) the app should recommend the ecological version of the product\n",
    "when selecting the non ecological product. From a non capitalist ecological point of view it could offer discounts for\n",
    "the ecological version when the non-ecological items are selected."
   ]
  },
  {
   "cell_type": "markdown",
   "metadata": {},
   "source": [
    "## 2.4. Extract association rules and comment on them (other departments)"
   ]
  },
  {
   "cell_type": "markdown",
   "metadata": {},
   "source": [
    "<font size=\"+1\" color=\"red\">Replace this cell with code to select a different set of departments (at least two, not DEPT_CLEANING) and extract transactions again. Avoid replicating code when possible.</font>"
   ]
  },
  {
   "cell_type": "code",
   "execution_count": 192,
   "metadata": {},
   "outputs": [
    {
     "name": "stdout",
     "output_type": "stream",
     "text": [
      "transaction read:  0  transaction stored:  0\n",
      "transaction read:  1000  transaction stored:  19\n",
      "transaction read:  2000  transaction stored:  33\n",
      "transaction read:  3000  transaction stored:  55\n",
      "transaction read:  4000  transaction stored:  72\n",
      "transaction read:  5000  transaction stored:  91\n"
     ]
    }
   ],
   "source": [
    "#pet department 8\n",
    "transactions = algo(8)\n",
    "results = list(apriori(transactions, min_support=0.02, min_confidence=0.001, min_lift=0.001))\n",
    "print_apyori_output(results, products, 'product_name')"
   ]
  },
  {
   "cell_type": "code",
   "execution_count": 183,
   "metadata": {},
   "outputs": [
    {
     "name": "stdout",
     "output_type": "stream",
     "text": [
      "transaction read:  0  transaction stored:  0\n",
      "transaction read:  1000  transaction stored:  18\n",
      "transaction read:  2000  transaction stored:  48\n",
      "transaction read:  3000  transaction stored:  70\n",
      "transaction read:  4000  transaction stored:  100\n",
      "transaction read:  5000  transaction stored:  124\n",
      "Rules involving itemset [46088, 41131]\n",
      "[] => ['Beer', 'India Pale Ale'] (support=0.0161, confidence=0.02, lift=1.00)\n",
      "['India Pale Ale'] => ['Beer'] (support=0.0161, confidence=0.22, lift=3.44)\n",
      "['Beer'] => ['India Pale Ale'] (support=0.0161, confidence=0.25, lift=3.44)\n",
      "\n"
     ]
    }
   ],
   "source": [
    "#alcohol department 5\n",
    "transactions = algo(5)\n",
    "results = list(apriori(transactions, min_support=0.008065, min_confidence=0.000001, min_lift=0.000001))\n",
    "print_apyori_output(results, products, 'product_name')\n"
   ]
  },
  {
   "cell_type": "markdown",
   "metadata": {},
   "source": [
    "<font size=\"+1\" color=\"red\">Replace this cell with your commentary on the obtained rules.</font>"
   ]
  },
  {
   "cell_type": "code",
   "execution_count": null,
   "metadata": {},
   "outputs": [],
   "source": [
    "I noticed while playing with the minimal support,confidence and lift that there is an elbow. For example if a minimal support is\n",
    "set as 0.01 there will be a few thousand rules generated, but by setting it to 0.02 nothing is generated. The minimal confidence\n",
    "and lift have seemingly no affect to the number of generated rules."
   ]
  },
  {
   "cell_type": "markdown",
   "metadata": {},
   "source": [
    "# DELIVER (individually)\n",
    "\n",
    "Remember to read the section on \"delivering your code\" in the [course evaluation guidelines](https://github.com/chatox/data-mining-course/blob/master/upf/upf-evaluation.md).\n",
    "\n",
    "Deliver a zip file containing:\n",
    "\n",
    "* This notebook\n",
    "\n",
    "## Extra points available\n",
    "\n",
    "For more learning and extra points, write code to filter the obtained association rules so that you print only the ones involving products in different departments. To be precise, this means rules in which there is at least a product in the *consequence* that belongs to a department that none of the products in the *antecedent* belongs to. Experiment with different combinations of departments, and try to discover interesting groups of products in different departments that are related to each other.\n",
    "\n",
    "**Note:** if you go for the extra points, add ``<font size=\"+2\" color=\"blue\">Additional results: experiments on cross-department association rules</font>`` at the top of your notebook.\n",
    "\n",
    "<font size=\"-1\" color=\"gray\">(Remove this cell when delivering.)</font>"
   ]
  },
  {
   "cell_type": "markdown",
   "metadata": {},
   "source": [
    "<font size=\"+2\" color=\"#003300\">I hereby declare that, except for the code provided by the course instructors, all of my code, report, and figures were produced by myself.</font>"
   ]
  }
 ],
 "metadata": {
  "kernelspec": {
   "display_name": "Python 3 (ipykernel)",
   "language": "python",
   "name": "python3"
  },
  "language_info": {
   "codemirror_mode": {
    "name": "ipython",
    "version": 3
   },
   "file_extension": ".py",
   "mimetype": "text/x-python",
   "name": "python",
   "nbconvert_exporter": "python",
   "pygments_lexer": "ipython3",
   "version": "3.10.4"
  }
 },
 "nbformat": 4,
 "nbformat_minor": 2
}
