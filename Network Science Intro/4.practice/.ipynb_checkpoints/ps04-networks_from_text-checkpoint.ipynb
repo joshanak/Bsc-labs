{
 "cells": [
  {
   "cell_type": "markdown",
   "metadata": {},
   "source": [
    "# Practice Session 04: Networks from text"
   ]
  },
  {
   "cell_type": "markdown",
   "metadata": {},
   "source": [
    "Author: <font color=\"blue\">Josip Hanak</font>\n",
    "\n",
    "E-mail: <font color=\"blue\">josip.hanak@fer.hr</font>\n",
    "\n",
    "Date: <font color=\"blue\">7/10/2022</font>"
   ]
  },
  {
   "cell_type": "markdown",
   "metadata": {},
   "source": [
    "# 1. Create the directed mention network"
   ]
  },
  {
   "cell_type": "markdown",
   "metadata": {},
   "source": [
    "Create the **directed mention network**, which has a weighted edge (source, target, weight) if user *source* mentioned user *target* at least once; with *weight* indicating the number of mentions.\n",
    "\n",
    "Create two files: one containing all edges, and one containing all edges having *count* greater or equal than 2.\n",
    "\n",
    "<font size=\"-1\" color=\"gray\">(Remove this cell when delivering.)</font>"
   ]
  },
  {
   "cell_type": "code",
   "execution_count": 38,
   "metadata": {},
   "outputs": [],
   "source": [
    "import io\n",
    "import json\n",
    "import gzip\n",
    "import csv\n",
    "import re\n",
    "\n",
    "from IPython.display import Image"
   ]
  },
  {
   "cell_type": "code",
   "execution_count": 39,
   "metadata": {},
   "outputs": [],
   "source": [
    "# Leave this code as-is\n",
    "\n",
    "# Input file\n",
    "COMPRESSED_INPUT_FILENAME = \"CovidLockdownCatalonia.json.gz\"\n",
    "\n",
    "# These are the output files, leave as-is\n",
    "OUTPUT_ALL_EDGES_FILENAME = \"CovidLockdownCatalonia.csv\"\n",
    "OUTPUT_FILTERED_EDGES_FILENAME = \"CovidLockdownCatalonia-min-weight-filtered.csv\"\n",
    "OUTPUT_CO_MENTIONS_FILENAME = \"CovidLockdownCatalonia-co-mentions.csv\""
   ]
  },
  {
   "cell_type": "markdown",
   "metadata": {},
   "source": [
    "## 1.1. Extract mentions"
   ]
  },
  {
   "cell_type": "code",
   "execution_count": 11,
   "metadata": {},
   "outputs": [
    {
     "name": "stdout",
     "output_type": "stream",
     "text": [
      "['Marco', 'Charles', 'Xavier']\n"
     ]
    }
   ],
   "source": [
    "# Leave this code as-is\n",
    "\n",
    "def extract_mentions(text):\n",
    "    return re.findall(\"@([a-zA-Z0-9_]{5,20})\", text)\n",
    "\n",
    "print(extract_mentions(\"RT @Marco: check this @Charles post by @Xavier\"))"
   ]
  },
  {
   "cell_type": "markdown",
   "metadata": {},
   "source": [
    "## 1.2. Count mentions"
   ]
  },
  {
   "cell_type": "markdown",
   "metadata": {},
   "source": [
    "We do not need to uncompress this file (it is about 236 MB uncompressed, but only 31 MB compressed), but we can read it directly while it is compressed.\n",
    "\n",
    "```python\n",
    "with gzip.open(COMPRESSED_INPUT_FILENAME, \"rt\", encoding=\"utf-8\") as input_file:\n",
    "    for line in input_file:\n",
    "        tweet = json.loads(line)\n",
    "        author = tweet[\"user\"][\"screen_name\"]\n",
    "        message = tweet[\"full_text\"]\n",
    "        print(\"%s: '%s'\" % (author, message))\n",
    "```\n",
    "\n",
    "To count how many times a mention happen, you will keep a dictionary:\n",
    "\n",
    "```python\n",
    "mentions_counter = {}\n",
    "```\n",
    "\n",
    "Each key in the dictionary will be a tuple `(author, mention)` where `author` is the username of the person who writes the message, and `mention` the username of someone who is mentioned in the message. To update the dictionary, use this code while you are reading the input file:\n",
    "\n",
    "```python\n",
    "for mention in mentions:\n",
    "    key = (author, mention)\n",
    "    if key in mentions_counter:\n",
    "        mentions_counter[key] += 1\n",
    "    else:\n",
    "        mentions_counter[key] = 1\n",
    "```\n",
    "\n",
    "<font size=\"-1\" color=\"gray\">(Remove this cell when delivering.)</font>"
   ]
  },
  {
   "cell_type": "markdown",
   "metadata": {},
   "source": [
    "<font size=\"+1\" color=\"red\">Replace this cell with your code to read the compressed input file and create the mentions_counter dictionary.</font>"
   ]
  },
  {
   "cell_type": "code",
   "execution_count": 17,
   "metadata": {},
   "outputs": [],
   "source": [
    "mentions_counter = dict()\n",
    "with gzip.open(COMPRESSED_INPUT_FILENAME, \"rt\", encoding=\"utf-8\") as input_file:\n",
    "    for line in input_file:\n",
    "        tweet = json.loads(line)\n",
    "        author = tweet[\"user\"][\"screen_name\"]\n",
    "        message = tweet[\"full_text\"]\n",
    "        mentions = extract_mentions(message)\n",
    "        for mention in mentions:\n",
    "            key = (author, mention)\n",
    "            if key in mentions_counter:\n",
    "                mentions_counter[key] += 1\n",
    "            else:\n",
    "                mentions_counter[key] = 1"
   ]
  },
  {
   "cell_type": "code",
   "execution_count": 19,
   "metadata": {},
   "outputs": [
    {
     "name": "stdout",
     "output_type": "stream",
     "text": [
      "9\n"
     ]
    }
   ],
   "source": [
    "print(mentions_counter[(\"joanmariapique\", \"catalangov\")])"
   ]
  },
  {
   "cell_type": "markdown",
   "metadata": {},
   "source": [
    "<font size=\"+1\" color=\"red\">Replace this cell with your code to print all the pairs of accounts (u,v) in which account u mentioned account v more than 5 times, and the number of times u mentioned v.</font>"
   ]
  },
  {
   "cell_type": "code",
   "execution_count": 24,
   "metadata": {},
   "outputs": [
    {
     "name": "stdout",
     "output_type": "stream",
     "text": [
      "wualaswold1 mentioned 9 times updayESP\n",
      "RedPillDetox mentioned 7 times TomthunkitsMind\n",
      "SpanishDan1 mentioned 8 times fascinatorfun\n",
      "OriolQuintanaMa mentioned 6 times informativost5\n",
      "emocionycambio mentioned 16 times DrTedros\n",
      "flower302 mentioned 8 times realDonaldTrump\n",
      "SpanishDan1 mentioned 6 times g_gosden\n",
      "SpanishDan1 mentioned 6 times miffythegamer\n",
      "LuisVies mentioned 6 times CMichaelGibson\n",
      "FXstreetNews mentioned 11 times HareshMenghani\n",
      "FXstreetNews mentioned 8 times eren_fxstreet\n",
      "enricgari mentioned 6 times VilaWeb\n",
      "BCN_Mobilitat mentioned 8 times TMBinfo\n",
      "MargaXrepublica mentioned 6 times MargaXrepublica\n",
      "IsabelPerez770 mentioned 6 times PabloFuente\n",
      "emocionycambio mentioned 7 times CoronavirusESP\n",
      "jrdelbrio mentioned 6 times ELSOOrg\n",
      "Txesnut1 mentioned 11 times DrEricDing\n",
      "joanmariapique mentioned 9 times catalangov\n"
     ]
    }
   ],
   "source": [
    "i = 0\n",
    "for k, v in mentions_counter.items():\n",
    "    if v>5:\n",
    "        print(k[0], \"mentioned\", v, \"times\", k[1])"
   ]
  },
  {
   "cell_type": "markdown",
   "metadata": {},
   "source": [
    "Now we write a file `OUTPUT_ALL_EDGES_FILENAME` with **all** the edges in this graph `(Source, Target, Weight)` as a tab-separated file, and `OUTPUT_FILTERED_EDGES_FILENAME` with edges of weight larger or equal to 3.\n",
    "\n",
    "<font size=\"-1\" color=\"gray\">(Remove this cell when delivering.)</font>"
   ]
  },
  {
   "cell_type": "code",
   "execution_count": 30,
   "metadata": {},
   "outputs": [],
   "source": [
    "# Leave this code as-is\n",
    "\n",
    "with io.open(OUTPUT_ALL_EDGES_FILENAME, \"w\") as output_file:\n",
    "    writer = csv.writer(output_file, delimiter='\\t', quotechar='\"', lineterminator='\\n')\n",
    "    writer.writerow([\"Source\", \"Target\", \"Weight\"])\n",
    "    for key in mentions_counter:\n",
    "        author = key[0]\n",
    "        mention = key[1]\n",
    "        weight = mentions_counter[key]\n",
    "        writer.writerow([author, mention, weight])"
   ]
  },
  {
   "cell_type": "markdown",
   "metadata": {},
   "source": [
    "<font size=\"+1\" color=\"red\">Replace this cell with your code to create a file named `OUTPUT_FILTERED_EDGES_FILENAME` containing all (author, mention) pairs with a value greater or equal to 3.</font>"
   ]
  },
  {
   "cell_type": "code",
   "execution_count": 33,
   "metadata": {},
   "outputs": [],
   "source": [
    "with io.open(r\"C:\\Users\\josip\\Documents\\Education\\UPF\\1.TRIMESTER\\Introduction to Network Science\\practices\\4.practice\\OUTPUT_FILTERED_EDGES_FILENAME\", \"w\") as output_file:\n",
    "    writer = csv.writer(output_file, delimiter='\\t', quotechar='\"', lineterminator='\\n')\n",
    "    writer.writerow([\"Source\", \"Target\", \"Weight\"])\n",
    "    for key in mentions_counter:\n",
    "        author = key[0]\n",
    "        mention = key[1]\n",
    "        weight = mentions_counter[key]\n",
    "        if weight>=3:\n",
    "            writer.writerow([author, mention, weight])"
   ]
  },
  {
   "cell_type": "markdown",
   "metadata": {},
   "source": [
    "# 2. Visualize the directed mention network"
   ]
  },
  {
   "cell_type": "markdown",
   "metadata": {},
   "source": [
    "## 2.1. Visualize two largest connected components\n"
   ]
  },
  {
   "cell_type": "markdown",
   "metadata": {},
   "source": [
    "Open the **filtered** edge file in Cytoscape, by importing its CSV file. You may have to set the delimiter to \"Tab\" in the advanced options, when importing.\n",
    "\n",
    "The file is large so if you want to see all details while zooming out you may have to set ``View > Always show Graphic Details``. Note this makes the program run slower.\n",
    "\n",
    "(a) **Keep only the two largest connected components of the graph.**\n",
    "\n",
    "(b) Style the network:\n",
    "\n",
    "* Run `Tools > Analyze Network ...`\n",
    "* Style nodes by setting their width proportional to their in-degree\n",
    "* Style edges by setting their color so that blue means smaller edge betweenness and red means larger edge betweenness\n",
    "* Style edges to add arrows at the end of each edge\n",
    "\n",
    "Save the image as `mentions-two-cc.png`, the next cell should display it.\n",
    "\n",
    "*Tip*: to count nodes in Cytoscape, hold shift while clicking and select the nodes. In the lower-right corner you should see a count of nodes and edges.\n",
    "\n",
    "<font size=\"-1\" color=\"gray\">(Remove this cell when delivering.)</font>"
   ]
  },
  {
   "cell_type": "code",
   "execution_count": 36,
   "metadata": {},
   "outputs": [
    {
     "data": {
      "text/html": [
       "<img src=\"mentions-two-cc.png\" width=\"1200\"/>"
      ],
      "text/plain": [
       "<IPython.core.display.Image object>"
      ]
     },
     "execution_count": 36,
     "metadata": {},
     "output_type": "execute_result"
    }
   ],
   "source": [
    "# Adjust width/height as needed\n",
    "\n",
    "Image(url=\"mentions-two-cc.png\", width=1200)"
   ]
  },
  {
   "cell_type": "markdown",
   "metadata": {},
   "source": [
    "<font size=\"+1\" color=\"red\">Replace this cell with a brief commentary of what you see in this graph. What is the diameter of the largest connected component, disregarding edge direction? What is the size of the largest connected component, both as a number of nodes and as a percentage of the nodes in the graph? What is the size of the second largest connected component?</font>"
   ]
  },
  {
   "cell_type": "code",
   "execution_count": 37,
   "metadata": {},
   "outputs": [
    {
     "ename": "SyntaxError",
     "evalue": "unterminated string literal (detected at line 1) (3760395626.py, line 1)",
     "output_type": "error",
     "traceback": [
      "\u001b[1;36m  Cell \u001b[1;32mIn [37], line 1\u001b[1;36m\u001b[0m\n\u001b[1;33m    Apology for only displaying the largest component, I indeed have two but jupyter isn't rendering I will attach one in the zip.\u001b[0m\n\u001b[1;37m                                                                                        ^\u001b[0m\n\u001b[1;31mSyntaxError\u001b[0m\u001b[1;31m:\u001b[0m unterminated string literal (detected at line 1)\n"
     ]
    }
   ],
   "source": [
    "Apology for only displaying the largest component, I indeed have two but jupyter isn't rendering I will attach one in the zip.\n",
    "I really can't notice any meaning in the network while the data has no meaning for me(just mentions of random users). \n",
    "The only interesting thing is SpanishDan mentionin only English account,"
   ]
  },
  {
   "cell_type": "markdown",
   "metadata": {},
   "source": [
    "## 2.2. Cluster the largest connected component\n"
   ]
  },
  {
   "cell_type": "markdown",
   "metadata": {},
   "source": [
    "Keep only the largest connected component, deleting the rest of the nodes (you can hold shift while drawing a rectangle, to select some nodes).\n",
    "\n",
    "Run the ClusterMaker2 plug-in to create a clustering (affinity propagation clustering) of this graph using the *weight* edge attribute. Color nodes according to their cluster, using a discrete mapping. Note that if you right-click on \"Mapping type\" when creating a discrete mapping, you can use an automatic mapping generator that you can fine-tune later.\n",
    "\n",
    "Export the image as `mentions-largest-cc.png`, the next cell should display it.\n",
    "\n",
    "<font size=\"-1\" color=\"gray\">(Remove this cell when delivering.)</font>"
   ]
  },
  {
   "cell_type": "code",
   "execution_count": 38,
   "metadata": {},
   "outputs": [
    {
     "data": {
      "text/html": [
       "<img src=\"mentions-largest-cc.png\" width=\"1200\"/>"
      ],
      "text/plain": [
       "<IPython.core.display.Image object>"
      ]
     },
     "execution_count": 38,
     "metadata": {},
     "output_type": "execute_result"
    }
   ],
   "source": [
    "# Adjust width/height as needed\n",
    "\n",
    "Image(url=\"mentions-largest-cc.png\", width=1200)"
   ]
  },
  {
   "cell_type": "markdown",
   "metadata": {},
   "source": [
    "<font size=\"+1\" color=\"red\">Replace this cell by a brief commentary, in your own words, of what you see in this graph. What type of graph is it? Which kinds of edges have high edge betweenness, disregarding edge direction? Include any aspects that you find relevant.</font>"
   ]
  },
  {
   "cell_type": "code",
   "execution_count": null,
   "metadata": {},
   "outputs": [],
   "source": [
    "Somehow ClusterMaker2 is not working for me after multiple attempts"
   ]
  },
  {
   "cell_type": "markdown",
   "metadata": {},
   "source": [
    "## 2.3. Examine degree distributions"
   ]
  },
  {
   "cell_type": "markdown",
   "metadata": {},
   "source": [
    "Go back to the **first network containing all nodes and connected components**, and look at the Results Panel of the network analyzer. From there, when `Node Table` is selected in the panel below, you can click on `Node degree distribution ...` and obtain in-degree and out-degree plots. \n",
    "\n",
    "Export the distributions as `mentions-indegree.png` and `mentions-outdegree.png`, the next cell should display them.\n",
    "\n",
    "<font size=\"-1\" color=\"gray\">(Remove this cell when delivering.)</font>"
   ]
  },
  {
   "cell_type": "code",
   "execution_count": 40,
   "metadata": {},
   "outputs": [
    {
     "data": {
      "text/html": [
       "<img src=\"mentions-indegree.png\" width=\"400\"/>"
      ],
      "text/plain": [
       "<IPython.core.display.Image object>"
      ]
     },
     "metadata": {},
     "output_type": "display_data"
    },
    {
     "data": {
      "text/html": [
       "<img src=\"mentions-outdegree.png\" width=\"400\"/>"
      ],
      "text/plain": [
       "<IPython.core.display.Image object>"
      ]
     },
     "metadata": {},
     "output_type": "display_data"
    }
   ],
   "source": [
    "# Adjust width/height as needed\n",
    "\n",
    "display(Image(url=\"mentions-indegree.png\", width=400))\n",
    "\n",
    "display(Image(url=\"mentions-outdegree.png\", width=400))"
   ]
  },
  {
   "cell_type": "markdown",
   "metadata": {},
   "source": [
    "<font size=\"+1\" color=\"red\">Replace this cell by a brief commentary, in your own words, about these degree distributions</font>"
   ]
  },
  {
   "cell_type": "code",
   "execution_count": null,
   "metadata": {},
   "outputs": [],
   "source": [
    "The in and out degree distributions are quite similar. They both have an exponential distribution and are unimodal. "
   ]
  },
  {
   "cell_type": "markdown",
   "metadata": {},
   "source": [
    "# 3. Create the undirected co-mention network"
   ]
  },
  {
   "cell_type": "markdown",
   "metadata": {},
   "source": [
    "The **undirected co-mention network** connects two accounts if they are both mentioned in the same tweet. The weight of the edge is the number of tweets in which the accounts are co-mentioned.\n",
    "\n",
    "Suppose the mentions in a Tweet are in the array ``mentions``, then you can iterate through all pairs of co-mentioned like this:\n",
    "\n",
    "```python\n",
    "for mention1 in mentions:\n",
    "    for mention2 in mentions:\n",
    "        if mention1 < mention2:\n",
    "            key = (mention1, mention2)\n",
    "```\n",
    "\n",
    "Read the input file again to create a dictionary `co_mentions_counter` in which keys are tuples (user1, user2) in which user1 lexicographically precedes user2 (user1 < user2), and values are the number of times user1 and user2 have appeared together in a tweet.\n",
    "\n",
    "<font size=\"-1\" color=\"gray\">(Remove this cell when delivering.)</font>"
   ]
  },
  {
   "cell_type": "markdown",
   "metadata": {},
   "source": [
    "<font size=\"+1\" color=\"red\">Replace this cell with your code to create the `co_mentions_counter`.</font>"
   ]
  },
  {
   "cell_type": "code",
   "execution_count": 42,
   "metadata": {},
   "outputs": [],
   "source": [
    "co_mentions_counter = dict()\n",
    "with gzip.open(COMPRESSED_INPUT_FILENAME, \"rt\", encoding=\"utf-8\") as input_file:\n",
    "    for line in input_file:\n",
    "        tweet = json.loads(line)\n",
    "        author = tweet[\"user\"][\"screen_name\"]\n",
    "        message = tweet[\"full_text\"]\n",
    "        mentions = extract_mentions(message)\n",
    "        for mention1 in mentions:\n",
    "            for mention2 in mentions:\n",
    "                if mention1 < mention2:\n",
    "                    key = (mention1, mention2)\n",
    "                    if key in co_mentions_counter:\n",
    "                        co_mentions_counter[key] += 1\n",
    "                    else:\n",
    "                        co_mentions_counter[key] = 1"
   ]
  },
  {
   "cell_type": "markdown",
   "metadata": {},
   "source": [
    "Print the number of times the accounts `agriculturacat` and `uniopagesos` have been mentioned together. It should be 8.\n",
    "\n",
    "<font size=\"-1\" color=\"gray\">(Remove this cell when delivering.)</font>"
   ]
  },
  {
   "cell_type": "code",
   "execution_count": 43,
   "metadata": {},
   "outputs": [
    {
     "name": "stdout",
     "output_type": "stream",
     "text": [
      "8\n"
     ]
    }
   ],
   "source": [
    "print(co_mentions_counter[\"agriculturacat\", \"uniopagesos\"])"
   ]
  },
  {
   "cell_type": "markdown",
   "metadata": {},
   "source": [
    "<font size=\"+1\" color=\"red\">Replace this cell with your code to print all pairs of accounts that have been mentioned 30 times or more.</font>"
   ]
  },
  {
   "cell_type": "code",
   "execution_count": 46,
   "metadata": {},
   "outputs": [
    {
     "name": "stdout",
     "output_type": "stream",
     "text": [
      "QuimTorraiPla mentioned 92 times govern\n",
      "elnacionalcat mentioned 90 times joseantich\n",
      "QuimTorraiPla mentioned 59 times tjparfitt\n",
      "emergenciescat mentioned 31 times govern\n",
      "josepcosta mentioned 49 times sanchezcastejon\n",
      "gencat mentioned 105 times govern\n",
      "mossos mentioned 44 times semgencat\n",
      "QuimTorraiPla mentioned 75 times emergenciescat\n",
      "Antoni_Gelonch mentioned 106 times sanchezcastejon\n"
     ]
    }
   ],
   "source": [
    "for k, v in co_mentions_counter.items():\n",
    "    if v>30:\n",
    "        print(k[0], \"mentioned\", v, \"times\", k[1])"
   ]
  },
  {
   "cell_type": "markdown",
   "metadata": {},
   "source": [
    "Now create a file named `OUTPUT_CO_MENTIONS_FILENAME` containing co-mentions in tab-separated columns `Source, Target, Weight`.\n",
    "\n",
    "<font size=\"-1\" color=\"gray\">(Remove this cell when delivering.)</font>"
   ]
  },
  {
   "cell_type": "markdown",
   "metadata": {},
   "source": [
    "<font size=\"+1\" color=\"red\">Replace this cell with your code to create the co-mentions file.</font>"
   ]
  },
  {
   "cell_type": "code",
   "execution_count": 50,
   "metadata": {},
   "outputs": [],
   "source": [
    "with io.open(r\"C:\\Users\\josip\\Documents\\Education\\UPF\\1.TRIMESTER\\Introduction to Network Science\\practices\\4.practice\\OUTPUT_CO_MENTIONS_FILENAME\", \"w\") as output_file:\n",
    "    writer = csv.writer(output_file, delimiter='\\t', quotechar='\"', lineterminator='\\n')\n",
    "    writer.writerow([\"Source\", \"Target\", \"Weight\"])\n",
    "    for key in co_mentions_counter:\n",
    "        Source = key[0]\n",
    "        Target = key[1]\n",
    "        Weight = co_mentions_counter[key]\n",
    "        writer.writerow([Source,Target,Weight])\n",
    "       "
   ]
  },
  {
   "cell_type": "markdown",
   "metadata": {},
   "source": [
    "# 4. Visualize the undirected co-mention network in Cytoscape\n"
   ]
  },
  {
   "cell_type": "markdown",
   "metadata": {},
   "source": [
    "Open the `OUTPUT_CO_MENTIONS_FILENAME` file in Cytoscape.\n",
    "\n",
    "**Select nodes having degree (in + out) larger or equal to 10.** You can do that with the `Filter` panel on the left, then create a new graph with the selected edges.\n",
    "\n",
    "Use `Layout > Prefuse Force Directed Layout > All Nodes > Weight` to create a layout by edge weight.\n",
    "\n",
    "Style the network so that:\n",
    "\n",
    "* All nodes have the same size\n",
    "* Edges have width proportional to weight.\n",
    "* Edges are black for small weight, and red for large weight\n",
    "\n",
    "Export the image as `co-mentions-min-degree-10.png`, the next cell should display it.\n",
    "\n",
    "<font size=\"-1\" color=\"gray\">(Remove this cell when delivering.)</font>"
   ]
  },
  {
   "cell_type": "code",
   "execution_count": 51,
   "metadata": {},
   "outputs": [
    {
     "data": {
      "text/html": [
       "<img src=\"co-mentions-min-degree-10.png\" width=\"1200\"/>"
      ],
      "text/plain": [
       "<IPython.core.display.Image object>"
      ]
     },
     "execution_count": 51,
     "metadata": {},
     "output_type": "execute_result"
    }
   ],
   "source": [
    "# Adjust width/height as needed\n",
    "\n",
    "Image(url=\"co-mentions-min-degree-10.png\", width=1200)"
   ]
  },
  {
   "cell_type": "markdown",
   "metadata": {},
   "source": [
    "<font size=\"+1\" color=\"red\">Replace this cell by a brief commentary, in your own words, of what you see in this graph. Which kinds of connected components does it have? Are connected components sparse or dense? Is there any specially dense sub-graph within the largest connected component, what is it? Include any aspects that you find relevant.</font>"
   ]
  },
  {
   "cell_type": "code",
   "execution_count": null,
   "metadata": {},
   "outputs": [],
   "source": [
    "The connected components have very dense connections and almost all their nodes are connected between each other forming almost \n",
    "complete graphs. The most densely connected component is the largest one that contains mentions between news organisations\n",
    "like theguardian and washington post."
   ]
  },
  {
   "cell_type": "markdown",
   "metadata": {},
   "source": [
    "\n",
    "# DELIVER (individually)\n",
    "\n",
    "Deliver a zip file containing:\n",
    "\n",
    "* Your code as a Python notebook (a `.ipynb` file).\n",
    "   * Remove all unnecessary elements\n",
    "   * Add comments when needed\n",
    "* Any png files that you inserted in the notebook\n",
    "\n",
    "## Extra points available\n",
    "\n",
    "For more learning and extra points, create a file `account-type.csv` containing the type of account of the top 50 accounts with the most mentions. You can use types \"journalist\", \"media\", \"politician\", \"government institution\", \"individual\", \"health-related\", etc. which you should categorize manually. Create a visualization either including only these 50 accounts, or including more accounts but highlighting these top 50 with colors. Use broad categories as needed and do not worry if there are some ambiguities in the categorization, e.g., if you are not 100% sure on whether someone should be in one category or another; just do your best.\n",
    "\n",
    "**Note:** if you go for the extra points, add ``<font size=\"+2\" color=\"blue\">Additional results: account types</font>`` at the top of your notebook.\n",
    "\n",
    "<font size=\"-1\" color=\"gray\">(Remove this cell when delivering.)</font>\n"
   ]
  },
  {
   "cell_type": "markdown",
   "metadata": {},
   "source": [
    "<font size=\"+2\" color=\"#003300\">I hereby declare that, except for the code provided by the course instructors, all of my code, text, and figures were produced by myself.</font>\n"
   ]
  }
 ],
 "metadata": {
  "kernelspec": {
   "display_name": "Python 3 (ipykernel)",
   "language": "python",
   "name": "python3"
  },
  "language_info": {
   "codemirror_mode": {
    "name": "ipython",
    "version": 3
   },
   "file_extension": ".py",
   "mimetype": "text/x-python",
   "name": "python",
   "nbconvert_exporter": "python",
   "pygments_lexer": "ipython3",
   "version": "3.10.4"
  }
 },
 "nbformat": 4,
 "nbformat_minor": 2
}
